{
 "cells": [
  {
   "cell_type": "code",
   "execution_count": 2,
   "id": "34a4edf9-8c80-4e56-97a9-c125b8827ad7",
   "metadata": {},
   "outputs": [
    {
     "data": {
      "text/plain": [
       "5370044050"
      ]
     },
     "execution_count": 2,
     "metadata": {},
     "output_type": "execute_result"
    }
   ],
   "source": [
    "import requests\n",
    "\n",
    "# ### run this to download itslive annual composite (just using 2015 in this case)\n",
    "# itslive_url_2015 = 'https://its-live-data.s3.amazonaws.com/velocity_mosaic/landsat/v00.0/annual/ANT_G0240_2015.nc'\n",
    "# r = requests.get(itslive_url_2015, allow_redirects=True)\n",
    "# open('data/itslive/ANT_G0240_2015.nc', 'wb').write(r.content)\n",
    "\n",
    "# ### run this to download itslive annual composite (just using 2019 in this case)\n",
    "itslive_url_2019 = 'https://its-live-data.s3.amazonaws.com/velocity_mosaic/landsat/v00.0/annual/ANT_G0240_2019.nc'\n",
    "r = requests.get(itslive_url_2019, allow_redirects=True)\n",
    "open('data/itslive/ANT_G0240_2019.nc', 'wb').write(r.content)\n",
    "\n",
    "# ### run this to download itslive composite (for filling in nan values for annual composites)\n",
    "# itslive_url_all = 'https://its-live-data.s3.amazonaws.com/velocity_mosaic/landsat/v00.0/static/ANT_G0120_0000.nc'\n",
    "# r = requests.get(itslive_url_all, allow_redirects=True)\n",
    "# open('data/itslive/ANT_G0120_0000.nc', 'wb').write(r.content)\n",
    "\n",
    "# ### run this to download itslive composite (for filling in nan values for annual composites)\n",
    "itslive_url_all = 'https://its-live-data.s3.amazonaws.com/velocity_mosaic/landsat/v00.0/static/ANT_G0240_0000.nc'\n",
    "r = requests.get(itslive_url_all, allow_redirects=True)\n",
    "open('data/itslive/ANT_G0240_0000.nc', 'wb').write(r.content)"
   ]
  },
  {
   "cell_type": "code",
   "execution_count": null,
   "id": "ae136395-d4cb-44e5-8b75-9145f4e54f08",
   "metadata": {},
   "outputs": [],
   "source": []
  }
 ],
 "metadata": {
  "kernelspec": {
   "display_name": "geo_py37",
   "language": "python",
   "name": "geo_py37"
  },
  "language_info": {
   "codemirror_mode": {
    "name": "ipython",
    "version": 3
   },
   "file_extension": ".py",
   "mimetype": "text/x-python",
   "name": "python",
   "nbconvert_exporter": "python",
   "pygments_lexer": "ipython3",
   "version": "3.7.10"
  }
 },
 "nbformat": 4,
 "nbformat_minor": 5
}
