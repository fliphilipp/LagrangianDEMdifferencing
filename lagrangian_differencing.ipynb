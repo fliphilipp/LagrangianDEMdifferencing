{
 "cells": [
  {
   "cell_type": "code",
   "execution_count": 1,
   "id": "2b4f4845-2498-4f85-9f36-34aa2e26c413",
   "metadata": {},
   "outputs": [],
   "source": [
    "%matplotlib widget\n",
    "from utils.lagrange import load_rema_and_velocity_data, get_lagrangian_difference"
   ]
  },
  {
   "cell_type": "code",
   "execution_count": 2,
   "id": "248082ed-8b82-4568-8f3f-9210be2ecb47",
   "metadata": {},
   "outputs": [],
   "source": [
    "path = 'data/REMA_ee_downloads/'\n",
    "fn1 = 'REMA_doline006_2014-03-02_2_SETSM_WV02_20140302_103001002EB86900_103001002D317400_seg1.tiff'\n",
    "fn2 = 'REMA_doline006_2016-12-06_2_SETSM_WV01_20161206_102001005547E000_1020010059AF2400_seg1.tiff'\n",
    "velocity_data_fn = 'data/itslive/ANT_G0240_2015.nc'"
   ]
  },
  {
   "cell_type": "code",
   "execution_count": 3,
   "id": "a5076580-b4b8-41b7-af32-e2cbc71af7c4",
   "metadata": {},
   "outputs": [
    {
     "data": {
      "application/vnd.jupyter.widget-view+json": {
       "model_id": "d410a1fdae25409dadc8ce7e72630571",
       "version_major": 2,
       "version_minor": 0
      },
      "text/plain": [
       "Canvas(toolbar=Toolbar(toolitems=[('Home', 'Reset original view', 'home', 'home'), ('Back', 'Back to previous …"
      ]
     },
     "metadata": {},
     "output_type": "display_data"
    }
   ],
   "source": [
    "date1, date2, dt, rema1, x1, y1, rema2, x2, y2, v_data = load_rema_and_velocity_data(path, fn1, fn2, velocity_data_fn)"
   ]
  },
  {
   "cell_type": "code",
   "execution_count": 4,
   "id": "5836a4c5-789a-4e30-81e0-0d3f553a4cb7",
   "metadata": {},
   "outputs": [
    {
     "name": "stdout",
     "output_type": "stream",
     "text": [
      "time step: 101 / 101 (1010 days of 1010)\r"
     ]
    },
    {
     "data": {
      "application/vnd.jupyter.widget-view+json": {
       "model_id": "152a05eaf36a4d1a90fdef1c07fb5cd6",
       "version_major": 2,
       "version_minor": 0
      },
      "text/plain": [
       "Canvas(toolbar=Toolbar(toolitems=[('Home', 'Reset original view', 'home', 'home'), ('Back', 'Back to previous …"
      ]
     },
     "metadata": {},
     "output_type": "display_data"
    }
   ],
   "source": [
    "dh = get_lagrangian_difference(date1, date2, dt, rema1, x1, y1, rema2, x2, y2, v_data, t_inc=10)"
   ]
  },
  {
   "cell_type": "code",
   "execution_count": null,
   "id": "48a41ee6-79e4-4bf6-8ec2-c5d893c08c2e",
   "metadata": {},
   "outputs": [],
   "source": []
  }
 ],
 "metadata": {
  "kernelspec": {
   "display_name": "geo_py37",
   "language": "python",
   "name": "geo_py37"
  },
  "language_info": {
   "codemirror_mode": {
    "name": "ipython",
    "version": 3
   },
   "file_extension": ".py",
   "mimetype": "text/x-python",
   "name": "python",
   "nbconvert_exporter": "python",
   "pygments_lexer": "ipython3",
   "version": "3.7.10"
  }
 },
 "nbformat": 4,
 "nbformat_minor": 5
}
